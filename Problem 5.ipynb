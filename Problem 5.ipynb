{
 "cells": [
  {
   "cell_type": "code",
   "execution_count": 2,
   "metadata": {},
   "outputs": [],
   "source": [
    "import dimod"
   ]
  },
  {
   "cell_type": "markdown",
   "metadata": {},
   "source": [
    "## Add the given QUBO problem to bqm "
   ]
  },
  {
   "cell_type": "code",
   "execution_count": 7,
   "metadata": {},
   "outputs": [
    {
     "name": "stdout",
     "output_type": "stream",
     "text": [
      "BinaryQuadraticModel({0: -1, 1: -1}, {(0, 1): 2.0}, 0.0, Vartype.BINARY)\n"
     ]
    }
   ],
   "source": [
    "h={0:-1,1:-1}\n",
    "J={(0,1):2.0}\n",
    "bqm=dimod.BinaryQuadraticModel(h,J,0.0,dimod.BINARY)\n",
    "print(bqm)"
   ]
  },
  {
   "cell_type": "markdown",
   "metadata": {},
   "source": [
    "## Transform QUBO to Ising model"
   ]
  },
  {
   "cell_type": "code",
   "execution_count": 19,
   "metadata": {},
   "outputs": [
    {
     "name": "stdout",
     "output_type": "stream",
     "text": [
      "BinaryQuadraticModel({0: 0.0, 1: 0.0}, {(0, 1): 0.5}, -0.5, Vartype.SPIN)\n",
      "J ={(0, 1): 0.5}\n"
     ]
    }
   ],
   "source": [
    "bqm_ising=bqm.change_vartype(dimod.SPIN,inplace=False)\n",
    "print(bqm_ising)\n",
    "print('J ='+str(bqm_ising.quadratic))"
   ]
  },
  {
   "cell_type": "code",
   "execution_count": null,
   "metadata": {},
   "outputs": [],
   "source": [
    "## All valid states "
   ]
  },
  {
   "cell_type": "code",
   "execution_count": 10,
   "metadata": {},
   "outputs": [
    {
     "name": "stdout",
     "output_type": "stream",
     "text": [
      "{0: 1, 1: 0} -1.0\n",
      "{0: 0, 1: 1} -1.0\n",
      "{0: 0, 1: 0} 0.0\n",
      "{0: 1, 1: 1} 0.0\n"
     ]
    }
   ],
   "source": [
    "response=dimod.ExactSolver().sample(bqm)\n",
    "for sample,energy in response.data(['sample','energy']):\n",
    "    print(sample,energy)    "
   ]
  },
  {
   "cell_type": "code",
   "execution_count": 11,
   "metadata": {},
   "outputs": [
    {
     "name": "stdout",
     "output_type": "stream",
     "text": [
      "{0: 1, 1: -1} -1.0\n",
      "{0: -1, 1: 1} -1.0\n",
      "{0: -1, 1: -1} 0.0\n",
      "{0: 1, 1: 1} 0.0\n"
     ]
    }
   ],
   "source": [
    "response=dimod.ExactSolver().sample(bqm_ising)\n",
    "for sample,energy in response.data(['sample','energy']):\n",
    "    print(sample,energy)"
   ]
  }
 ],
 "metadata": {
  "kernelspec": {
   "display_name": "Python 3",
   "language": "python",
   "name": "python3"
  },
  "language_info": {
   "codemirror_mode": {
    "name": "ipython",
    "version": 3
   },
   "file_extension": ".py",
   "mimetype": "text/x-python",
   "name": "python",
   "nbconvert_exporter": "python",
   "pygments_lexer": "ipython3",
   "version": "3.6.5"
  }
 },
 "nbformat": 4,
 "nbformat_minor": 2
}
