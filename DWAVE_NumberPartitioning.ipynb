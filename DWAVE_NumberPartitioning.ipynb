{
 "cells": [
  {
   "cell_type": "markdown",
   "metadata": {},
   "source": [
    "### If there is a set of 10 positive numbers, are there two subsets that sum of the elements in both sets is equal?"
   ]
  },
  {
   "cell_type": "markdown",
   "metadata": {},
   "source": [
    "#### objective function\n",
    "$$minimize~~ (\\sum_{i=1}^{5} n_{i}s_{i})^{2}$$"
   ]
  },
  {
   "cell_type": "code",
   "execution_count": 75,
   "metadata": {},
   "outputs": [],
   "source": [
    "from pyqubo import Array\n",
    "s=Array.create('s',shape=4,vartype='SPIN')   \n",
    "H=sum(n*s for s,n in zip(s,range(1,5)))**2\n",
    "model=H.compile()\n",
    "qubo,offset=model.to_qubo()"
   ]
  },
  {
   "cell_type": "code",
   "execution_count": 76,
   "metadata": {},
   "outputs": [
    {
     "name": "stdout",
     "output_type": "stream",
     "text": [
      "(((Spin(s[0])*Num(1))+(Spin(s[1])*Num(2))+(Spin(s[2])*Num(3))+(Spin(s[3])*Num(4)))*((Spin(s[0])*Num(1))+(Spin(s[1])*Num(2))+(Spin(s[2])*Num(3))+(Spin(s[3])*Num(4))))\n"
     ]
    }
   ],
   "source": [
    "print(H)"
   ]
  },
  {
   "cell_type": "code",
   "execution_count": 77,
   "metadata": {},
   "outputs": [
    {
     "name": "stdout",
     "output_type": "stream",
     "text": [
      "Model(CompiledQubo({('s[0]', 's[0]'): -36.0,\n",
      " ('s[0]', 's[1]'): 16.0,\n",
      " ('s[0]', 's[2]'): 24.0,\n",
      " ('s[0]', 's[3]'): 32.0,\n",
      " ('s[1]', 's[1]'): -64.0,\n",
      " ('s[1]', 's[2]'): 48.0,\n",
      " ('s[1]', 's[3]'): 64.0,\n",
      " ('s[2]', 's[2]'): -84.0,\n",
      " ('s[2]', 's[3]'): 96.0,\n",
      " ('s[3]', 's[3]'): -96.0}, offset=100.0), structure={'s[0]': ('s', 0), 's[1]': ('s', 1), 's[2]': ('s', 2), 's[3]': ('s', 3)})\n"
     ]
    }
   ],
   "source": [
    "print(model)"
   ]
  },
  {
   "cell_type": "code",
   "execution_count": 78,
   "metadata": {},
   "outputs": [],
   "source": [
    "bqm=model.to_dimod_bqm()"
   ]
  },
  {
   "cell_type": "code",
   "execution_count": 79,
   "metadata": {},
   "outputs": [],
   "source": [
    "from dwave.system.samplers import DWaveSampler\n",
    "from dwave.system.composites import EmbeddingComposite\n",
    "import neal\n",
    "sampler=EmbeddingComposite(DWaveSampler())\n",
    "sampler=neal.SimulatedAnnealingSampler()\n",
    "response=sampler.sample(bqm)"
   ]
  },
  {
   "cell_type": "code",
   "execution_count": 80,
   "metadata": {},
   "outputs": [
    {
     "name": "stdout",
     "output_type": "stream",
     "text": [
      "{'s[0]': 1, 's[1]': 0, 's[2]': 0, 's[3]': 1}\n",
      "{'s[0]': 1, 's[1]': 0, 's[2]': 0, 's[3]': 1}\n",
      "{'s[0]': 1, 's[1]': 0, 's[2]': 0, 's[3]': 1}\n",
      "{'s[0]': 0, 's[1]': 1, 's[2]': 1, 's[3]': 0}\n",
      "{'s[0]': 0, 's[1]': 1, 's[2]': 1, 's[3]': 0}\n",
      "{'s[0]': 0, 's[1]': 1, 's[2]': 1, 's[3]': 0}\n",
      "{'s[0]': 1, 's[1]': 0, 's[2]': 0, 's[3]': 1}\n",
      "{'s[0]': 1, 's[1]': 0, 's[2]': 0, 's[3]': 1}\n",
      "{'s[0]': 0, 's[1]': 1, 's[2]': 1, 's[3]': 0}\n",
      "{'s[0]': 0, 's[1]': 1, 's[2]': 0, 's[3]': 1}\n"
     ]
    }
   ],
   "source": [
    "for sample in response.samples():\n",
    "     print(sample)"
   ]
  },
  {
   "cell_type": "code",
   "execution_count": 81,
   "metadata": {},
   "outputs": [
    {
     "name": "stdout",
     "output_type": "stream",
     "text": [
      "s[0]    1\n",
      "s[1]    0\n",
      "s[2]    0\n",
      "s[3]    1\n",
      "Name: 0, dtype: int64\n"
     ]
    }
   ],
   "source": [
    "import pandas as pd\n",
    "from collections import defaultdict    \n",
    "result=defaultdict(list)\n",
    "for r in response.data(['sample', 'energy']):\n",
    "    result[r.energy].append(r.sample)\n",
    "\n",
    "res=pd.DataFrame()\n",
    "min_energy=min(result.keys())\n",
    "for i in list(result[min_energy]):\n",
    "    temp=pd.DataFrame.from_dict(i,'index').transpose()\n",
    "    res=res.append(temp)\n",
    "res=res.drop_duplicates()\n",
    "print(res.iloc[0])"
   ]
  },
  {
   "cell_type": "code",
   "execution_count": 82,
   "metadata": {},
   "outputs": [
    {
     "name": "stdout",
     "output_type": "stream",
     "text": [
      "      group1 group2:\n",
      "list  [2, 3]  [1, 4]\n",
      "sum        5       5\n"
     ]
    }
   ],
   "source": [
    "df2=res.iloc[0].transpose().reset_index().reset_index()\n",
    "df2['level_0']=df2['level_0']+1\n",
    "ans={'group1':{'list':list(df2[df2[0]==0]['level_0']),'sum':sum(list(df2[df2[0]==0]['level_0']))},\n",
    "    'group2:':{'list':list(df2[df2[0]==1]['level_0']),'sum':sum(list(df2[df2[0]==1]['level_0']))}}\n",
    "print(pd.DataFrame.from_dict(ans))"
   ]
  },
  {
   "cell_type": "markdown",
   "metadata": {},
   "source": [
    "### Show more answers"
   ]
  },
  {
   "cell_type": "code",
   "execution_count": 83,
   "metadata": {},
   "outputs": [],
   "source": [
    "response=sampler.sample(bqm,num_reads=100)"
   ]
  },
  {
   "cell_type": "code",
   "execution_count": 84,
   "metadata": {},
   "outputs": [
    {
     "name": "stdout",
     "output_type": "stream",
     "text": [
      "                                                  num_occurrences\n",
      "{'s[0]': 0, 's[1]': 1, 's[2]': 1, 's[3]': 0} 0.0               50\n",
      "{'s[0]': 1, 's[1]': 0, 's[2]': 0, 's[3]': 1} 0.0               49\n",
      "{'s[0]': 0, 's[1]': 0, 's[2]': 0, 's[3]': 1} 4.0                1\n"
     ]
    }
   ],
   "source": [
    "result=defaultdict(int)\n",
    "for datum in response.data(['sample', 'energy', 'num_occurrences']):   \n",
    "    #print(str(datum.sample), \"Energy: \", datum.energy, \"Occurrences: \", datum.num_occurrences)\n",
    "    result[str(datum.sample)+' '+str(datum.energy)]+=1\n",
    "print(pd.DataFrame.from_dict(result,'index').rename(columns={0:'num_occurrences'}))"
   ]
  },
  {
   "cell_type": "markdown",
   "metadata": {},
   "source": [
    "### Add constraint to balance the size of two sets"
   ]
  },
  {
   "cell_type": "code",
   "execution_count": 105,
   "metadata": {},
   "outputs": [],
   "source": [
    "from pyqubo import Array\n",
    "s=Array.create('s',shape=4,vartype='SPIN')   \n",
    "M=1 #constraint parameter\n",
    "H=sum(n*s for s,n in zip(s,range(1,5)))**2+M*Constraint(sum(s)**2,label='(sum s)^2= 0')\n",
    "model=H.compile()\n",
    "qubo,offset=model.to_qubo()"
   ]
  },
  {
   "cell_type": "code",
   "execution_count": 106,
   "metadata": {},
   "outputs": [
    {
     "name": "stdout",
     "output_type": "stream",
     "text": [
      "((((Spin(s[0])*Num(1))+(Spin(s[1])*Num(2))+(Spin(s[2])*Num(3))+(Spin(s[3])*Num(4)))*((Spin(s[0])*Num(1))+(Spin(s[1])*Num(2))+(Spin(s[2])*Num(3))+(Spin(s[3])*Num(4))))+(Const((sum s)^2= 0, ((Spin(s[0])+Spin(s[1])+Spin(s[2])+Spin(s[3]))*(Spin(s[0])+Spin(s[1])+Spin(s[2])+Spin(s[3]))))*Num(1)))\n"
     ]
    }
   ],
   "source": [
    "print(H)"
   ]
  },
  {
   "cell_type": "code",
   "execution_count": 107,
   "metadata": {},
   "outputs": [],
   "source": [
    "model=H.compile()\n",
    "qubo,offset=model.to_qubo()\n",
    "bqm=model.to_dimod_bqm()"
   ]
  },
  {
   "cell_type": "code",
   "execution_count": 128,
   "metadata": {},
   "outputs": [],
   "source": [
    "sampler=EmbeddingComposite(DWaveSampler(endpoint='https://cloud.dwavesys.com/sapi', token='DEV-6868dc20cabd03c8bcdd24a96b33799beaa79865', solver='DW_2000Q_2_1'))\n",
    "sampler=neal.SimulatedAnnealingSampler()\n",
    "response=sampler.sample(bqm,num_reads=100)"
   ]
  },
  {
   "cell_type": "code",
   "execution_count": 129,
   "metadata": {},
   "outputs": [
    {
     "name": "stdout",
     "output_type": "stream",
     "text": [
      "                                                  num_occurrences\n",
      "{'s[0]': 1, 's[1]': 0, 's[2]': 0, 's[3]': 1} 0.0               44\n",
      "{'s[0]': 0, 's[1]': 1, 's[2]': 1, 's[3]': 0} 0.0               52\n",
      "{'s[0]': 0, 's[1]': 1, 's[2]': 0, 's[3]': 1} 4.0                3\n",
      "{'s[0]': 1, 's[1]': 0, 's[2]': 1, 's[3]': 0} 4.0                1\n"
     ]
    }
   ],
   "source": [
    "result=defaultdict(int)\n",
    "for datum in response.data(['sample', 'energy', 'num_occurrences']):   \n",
    "    result[str(datum.sample)+' '+str(datum.energy)]+=1\n",
    "print(pd.DataFrame.from_dict(result,'index').rename(columns={0:'num_occurrences'}))"
   ]
  },
  {
   "cell_type": "code",
   "execution_count": 130,
   "metadata": {},
   "outputs": [
    {
     "name": "stdout",
     "output_type": "stream",
     "text": [
      "s[0]    1\n",
      "s[1]    0\n",
      "s[2]    0\n",
      "s[3]    1\n",
      "Name: 0, dtype: int64\n"
     ]
    }
   ],
   "source": [
    "import pandas as pd\n",
    "from collections import defaultdict    \n",
    "result=defaultdict(list)\n",
    "for r in response.data(['sample', 'energy']):\n",
    "    result[r.energy].append(r.sample)\n",
    "\n",
    "res=pd.DataFrame()\n",
    "min_energy=min(result.keys())\n",
    "for i in list(result[min_energy]):\n",
    "    temp=pd.DataFrame.from_dict(i,'index').transpose()\n",
    "    res=res.append(temp)\n",
    "res=res.drop_duplicates()\n",
    "print(res.iloc[0])"
   ]
  },
  {
   "cell_type": "code",
   "execution_count": 131,
   "metadata": {},
   "outputs": [
    {
     "name": "stdout",
     "output_type": "stream",
     "text": [
      "      group1 group2:\n",
      "list  [2, 3]  [1, 4]\n",
      "sum        5       5\n"
     ]
    }
   ],
   "source": [
    "df2=res.iloc[0].transpose().reset_index().reset_index()\n",
    "df2['level_0']=df2['level_0']+1\n",
    "ans={'group1':{'list':list(df2[df2[0]==0]['level_0']),'sum':sum(list(df2[df2[0]==0]['level_0']))},\n",
    "    'group2:':{'list':list(df2[df2[0]==1]['level_0']),'sum':sum(list(df2[df2[0]==1]['level_0']))}}\n",
    "print(pd.DataFrame.from_dict(ans))"
   ]
  }
 ],
 "metadata": {
  "kernelspec": {
   "display_name": "Python 3",
   "language": "python",
   "name": "python3"
  },
  "language_info": {
   "codemirror_mode": {
    "name": "ipython",
    "version": 3
   },
   "file_extension": ".py",
   "mimetype": "text/x-python",
   "name": "python",
   "nbconvert_exporter": "python",
   "pygments_lexer": "ipython3",
   "version": "3.6.5"
  }
 },
 "nbformat": 4,
 "nbformat_minor": 2
}
