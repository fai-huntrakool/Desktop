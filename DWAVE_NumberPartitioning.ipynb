{
 "cells": [
  {
   "cell_type": "markdown",
   "metadata": {},
   "source": [
    "### If there is a set of 10 positive numbers, are there two subsets that sum of the elements in both sets is equal?"
   ]
  },
  {
   "cell_type": "markdown",
   "metadata": {},
   "source": [
    "#### objective function\n",
    "$$minimize \\sum_{i=0}^{10} n_{i}s_{i}$$"
   ]
  },
  {
   "cell_type": "code",
   "execution_count": 11,
   "metadata": {},
   "outputs": [],
   "source": [
    "from pyqubo import Array\n",
    "s=Array.create('s',shape=10,vartype='SPIN')   \n",
    "H=sum(n*s for s,n in zip(s,range(10)))**2\n",
    "model=H.compile()\n",
    "qubo,offset=model.to_qubo()"
   ]
  },
  {
   "cell_type": "code",
   "execution_count": 12,
   "metadata": {},
   "outputs": [],
   "source": [
    "bqm=model.to_dimod_bqm()"
   ]
  },
  {
   "cell_type": "code",
   "execution_count": 13,
   "metadata": {},
   "outputs": [],
   "source": [
    "from dwave.system.samplers import DWaveSampler\n",
    "from dwave.system.composites import EmbeddingComposite\n",
    "sampler=EmbeddingComposite(DWaveSampler())\n",
    "response=sampler.sample(bqm)"
   ]
  },
  {
   "cell_type": "code",
   "execution_count": 14,
   "metadata": {},
   "outputs": [
    {
     "name": "stdout",
     "output_type": "stream",
     "text": [
      "{'s[0]': 0, 's[1]': 0, 's[2]': 0, 's[3]': 0, 's[4]': 1, 's[5]': 1, 's[6]': 1, 's[7]': 0, 's[8]': 1, 's[9]': 1}\n"
     ]
    }
   ],
   "source": [
    "for sample in response.samples():\n",
    "     print(sample)"
   ]
  },
  {
   "cell_type": "code",
   "execution_count": 15,
   "metadata": {},
   "outputs": [],
   "source": [
    "import pandas as pd\n",
    "df=pd.DataFrame.from_dict(sample,orient='index').reset_index().reset_index()\n",
    "ans={'group1':{'list':list(df[df[0]==0]['level_0']),'sum':sum(list(df[df[0]==0]['level_0']))},\n",
    "    'group2:':{'list':list(df[df[0]==1]['level_0']),'sum':sum(list(df[df[0]==0]['level_0']))}}"
   ]
  },
  {
   "cell_type": "code",
   "execution_count": 16,
   "metadata": {},
   "outputs": [
    {
     "name": "stdout",
     "output_type": "stream",
     "text": [
      "               group1          group2:\n",
      "list  [0, 1, 2, 3, 7]  [4, 5, 6, 8, 9]\n",
      "sum                13               13\n"
     ]
    }
   ],
   "source": [
    "print(pd.DataFrame.from_dict(ans))"
   ]
  },
  {
   "cell_type": "markdown",
   "metadata": {},
   "source": [
    "### Alternative answers"
   ]
  },
  {
   "cell_type": "code",
   "execution_count": 17,
   "metadata": {},
   "outputs": [],
   "source": [
    "response=sampler.sample(bqm,num_reads=10)"
   ]
  },
  {
   "cell_type": "code",
   "execution_count": 18,
   "metadata": {},
   "outputs": [
    {
     "name": "stdout",
     "output_type": "stream",
     "text": [
      "               group1          group2:\n",
      "list  [0, 1, 2, 7, 9]  [3, 4, 5, 6, 8]\n",
      "sum                19               19\n",
      "                  group1       group2:\n",
      "list  [0, 1, 2, 7, 8, 9]  [3, 4, 5, 6]\n",
      "sum                   27            27\n",
      "            group1             group2:\n",
      "list  [3, 7, 8, 9]  [0, 1, 2, 4, 5, 6]\n",
      "sum             27                  27\n",
      "               group1          group2:\n",
      "list  [1, 3, 7, 8, 9]  [0, 2, 4, 5, 6]\n",
      "sum                28               28\n",
      "               group1          group2:\n",
      "list  [0, 1, 2, 3, 8]  [4, 5, 6, 7, 9]\n",
      "sum                14               14\n",
      "               group1          group2:\n",
      "list  [0, 1, 2, 3, 4]  [5, 6, 7, 8, 9]\n",
      "sum                10               10\n",
      "         group1                group2:\n",
      "list  [1, 2, 3]  [0, 4, 5, 6, 7, 8, 9]\n",
      "sum           6                      6\n",
      "         group1                group2:\n",
      "list  [0, 2, 4]  [1, 3, 5, 6, 7, 8, 9]\n",
      "sum           6                      6\n",
      "      group1                   group2:\n",
      "list  [1, 2]  [0, 3, 4, 5, 6, 7, 8, 9]\n",
      "sum        3                         3\n",
      "      group1                   group2:\n",
      "list  [1, 2]  [0, 3, 4, 5, 6, 7, 8, 9]\n",
      "sum        3                         3\n"
     ]
    }
   ],
   "source": [
    "for sample in response.samples():\n",
    "    df=pd.DataFrame.from_dict(sample,orient='index').reset_index().reset_index()\n",
    "    ans={'group1':{'list':list(df[df[0]==0]['level_0']),'sum':sum(list(df[df[0]==0]['level_0']))},'group2:':{'list':list(df[df[0]==1]['level_0']),'sum':sum(list(df[df[0]==0]['level_0']))}}\n",
    "    print(pd.DataFrame.from_dict(ans))"
   ]
  },
  {
   "cell_type": "markdown",
   "metadata": {},
   "source": [
    "### Add constraint to balance the size of two sets"
   ]
  },
  {
   "cell_type": "code",
   "execution_count": 43,
   "metadata": {},
   "outputs": [],
   "source": [
    "from pyqubo import Constraint\n",
    "M=3\n",
    "H=H+M*Constraint(sum(s for s in s)**2,label='(sum s)^2= 0')"
   ]
  },
  {
   "cell_type": "code",
   "execution_count": 44,
   "metadata": {},
   "outputs": [],
   "source": [
    "model=H.compile()\n",
    "qubo,offset=model.to_qubo()\n",
    "bqm=model.to_dimod_bqm()"
   ]
  },
  {
   "cell_type": "code",
   "execution_count": 45,
   "metadata": {},
   "outputs": [],
   "source": [
    "sampler=EmbeddingComposite(DWaveSampler())\n",
    "response=sampler.sample(bqm,num_reads=5)"
   ]
  },
  {
   "cell_type": "code",
   "execution_count": 46,
   "metadata": {},
   "outputs": [
    {
     "name": "stdout",
     "output_type": "stream",
     "text": [
      "{'s[0]': 0, 's[1]': 0, 's[2]': 0, 's[3]': 0, 's[4]': 0, 's[5]': 1, 's[6]': 1, 's[7]': 1, 's[8]': 1, 's[9]': 1}\n",
      "{'s[0]': 0, 's[1]': 0, 's[2]': 0, 's[3]': 0, 's[4]': 0, 's[5]': 1, 's[6]': 1, 's[7]': 1, 's[8]': 1, 's[9]': 1}\n",
      "{'s[0]': 0, 's[1]': 0, 's[2]': 0, 's[3]': 0, 's[4]': 0, 's[5]': 1, 's[6]': 1, 's[7]': 1, 's[8]': 1, 's[9]': 1}\n",
      "{'s[0]': 0, 's[1]': 0, 's[2]': 0, 's[3]': 0, 's[4]': 0, 's[5]': 1, 's[6]': 1, 's[7]': 1, 's[8]': 1, 's[9]': 1}\n",
      "{'s[0]': 0, 's[1]': 0, 's[2]': 0, 's[3]': 1, 's[4]': 0, 's[5]': 1, 's[6]': 1, 's[7]': 1, 's[8]': 1, 's[9]': 1}\n"
     ]
    }
   ],
   "source": [
    "for sample in response.samples():\n",
    "     print(sample)"
   ]
  },
  {
   "cell_type": "code",
   "execution_count": 47,
   "metadata": {},
   "outputs": [
    {
     "name": "stdout",
     "output_type": "stream",
     "text": [
      "               group1          group2:\n",
      "list  [0, 1, 2, 3, 4]  [5, 6, 7, 8, 9]\n",
      "sum                10               10\n",
      "               group1          group2:\n",
      "list  [0, 1, 2, 3, 4]  [5, 6, 7, 8, 9]\n",
      "sum                10               10\n",
      "               group1          group2:\n",
      "list  [0, 1, 2, 3, 4]  [5, 6, 7, 8, 9]\n",
      "sum                10               10\n",
      "               group1          group2:\n",
      "list  [0, 1, 2, 3, 4]  [5, 6, 7, 8, 9]\n",
      "sum                10               10\n",
      "            group1             group2:\n",
      "list  [0, 1, 2, 4]  [3, 5, 6, 7, 8, 9]\n",
      "sum              7                   7\n"
     ]
    }
   ],
   "source": [
    "for sample in response.samples():\n",
    "    df=pd.DataFrame.from_dict(sample,orient='index').reset_index().reset_index()\n",
    "    ans={'group1':{'list':list(df[df[0]==0]['level_0']),'sum':sum(list(df[df[0]==0]['level_0']))},'group2:':{'list':list(df[df[0]==1]['level_0']),'sum':sum(list(df[df[0]==0]['level_0']))}}\n",
    "    print(pd.DataFrame.from_dict(ans))"
   ]
  }
 ],
 "metadata": {
  "kernelspec": {
   "display_name": "Python 3",
   "language": "python",
   "name": "python3"
  },
  "language_info": {
   "codemirror_mode": {
    "name": "ipython",
    "version": 3
   },
   "file_extension": ".py",
   "mimetype": "text/x-python",
   "name": "python",
   "nbconvert_exporter": "python",
   "pygments_lexer": "ipython3",
   "version": "3.6.5"
  }
 },
 "nbformat": 4,
 "nbformat_minor": 2
}
