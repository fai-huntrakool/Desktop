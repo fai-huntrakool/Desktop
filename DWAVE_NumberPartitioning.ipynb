{
 "cells": [
  {
   "cell_type": "markdown",
   "metadata": {},
   "source": [
    "### If there is a set of 10 positive numbers, are there two subsets that sum of the elements in both sets is equal?"
   ]
  },
  {
   "cell_type": "markdown",
   "metadata": {},
   "source": [
    "#### objective function\n",
    "$$minimize \\sum_{i=0}^{10} n_{i}s_{i}$$"
   ]
  },
  {
   "cell_type": "code",
   "execution_count": 118,
   "metadata": {},
   "outputs": [],
   "source": [
    "from pyqubo import Array\n",
    "s=Array.create('s',shape=10,vartype='SPIN')   \n",
    "H=sum(n*s for s,n in zip(s,range(1,11)))**2\n",
    "model=H.compile()\n",
    "qubo,offset=model.to_qubo()"
   ]
  },
  {
   "cell_type": "code",
   "execution_count": 119,
   "metadata": {},
   "outputs": [],
   "source": [
    "bqm=model.to_dimod_bqm()"
   ]
  },
  {
   "cell_type": "code",
   "execution_count": 128,
   "metadata": {},
   "outputs": [],
   "source": [
    "from dwave.system.samplers import DWaveSampler\n",
    "from dwave.system.composites import EmbeddingComposite\n",
    "sampler=EmbeddingComposite(DWaveSampler())\n",
    "response=sampler.sample(bqm)"
   ]
  },
  {
   "cell_type": "code",
   "execution_count": 129,
   "metadata": {},
   "outputs": [
    {
     "name": "stdout",
     "output_type": "stream",
     "text": [
      "{'s[0]': 1, 's[1]': 1, 's[2]': 1, 's[3]': 0, 's[4]': 1, 's[5]': 0, 's[6]': 0, 's[7]': 0, 's[8]': 1, 's[9]': 1}\n"
     ]
    }
   ],
   "source": [
    "for sample in response.samples():\n",
    "     print(sample)"
   ]
  },
  {
   "cell_type": "code",
   "execution_count": 130,
   "metadata": {},
   "outputs": [],
   "source": [
    "import pandas as pd\n",
    "df=pd.DataFrame.from_dict(sample,orient='index').reset_index().reset_index()\n",
    "df['level_0']=df['level_0']+1\n",
    "ans={'group1':{'list':list(df[df[0]==0]['level_0']),'sum':sum(list(df[df[0]==0]['level_0']))},\n",
    "    'group2:':{'list':list(df[df[0]==1]['level_0']),'sum':sum(list(df[df[0]==1]['level_0']))}}"
   ]
  },
  {
   "cell_type": "code",
   "execution_count": 131,
   "metadata": {},
   "outputs": [
    {
     "name": "stdout",
     "output_type": "stream",
     "text": [
      "            group1              group2:\n",
      "list  [4, 6, 7, 8]  [1, 2, 3, 5, 9, 10]\n",
      "sum             25                   30\n"
     ]
    }
   ],
   "source": [
    "print(pd.DataFrame.from_dict(ans))"
   ]
  },
  {
   "cell_type": "markdown",
   "metadata": {},
   "source": [
    "### Asking for more samples"
   ]
  },
  {
   "cell_type": "code",
   "execution_count": 132,
   "metadata": {},
   "outputs": [],
   "source": [
    "response=sampler.sample(bqm,num_reads=10)"
   ]
  },
  {
   "cell_type": "code",
   "execution_count": 133,
   "metadata": {},
   "outputs": [
    {
     "name": "stdout",
     "output_type": "stream",
     "text": [
      "            group1              group2:\n",
      "list  [3, 4, 7, 9]  [1, 2, 5, 6, 8, 10]\n",
      "sum             23                   32\n",
      "             group1             group2:\n",
      "list  [1, 3, 4, 10]  [2, 5, 6, 7, 8, 9]\n",
      "sum              18                  37\n",
      "             group1             group2:\n",
      "list  [1, 3, 4, 10]  [2, 5, 6, 7, 8, 9]\n",
      "sum              18                  37\n",
      "            group1              group2:\n",
      "list  [1, 2, 6, 8]  [3, 4, 5, 7, 9, 10]\n",
      "sum             17                   38\n",
      "          group1                group2:\n",
      "list  [3, 4, 10]  [1, 2, 5, 6, 7, 8, 9]\n",
      "sum           17                     38\n",
      "               group1           group2:\n",
      "list  [1, 2, 3, 4, 6]  [5, 7, 8, 9, 10]\n",
      "sum                16                39\n",
      "          group1                group2:\n",
      "list  [1, 4, 10]  [2, 3, 5, 6, 7, 8, 9]\n",
      "sum           15                     40\n",
      "               group1           group2:\n",
      "list  [1, 2, 3, 4, 5]  [6, 7, 8, 9, 10]\n",
      "sum                15                40\n",
      "       group1                   group2:\n",
      "list  [4, 10]  [1, 2, 3, 5, 6, 7, 8, 9]\n",
      "sum        14                        41\n",
      "            group1              group2:\n",
      "list  [1, 2, 4, 6]  [3, 5, 7, 8, 9, 10]\n",
      "sum             13                   42\n"
     ]
    }
   ],
   "source": [
    "for sample in response.samples():\n",
    "    df=pd.DataFrame.from_dict(sample,orient='index').reset_index().reset_index()\n",
    "    df['level_0']=df['level_0']+1\n",
    "    ans={'group1':{'list':list(df[df[0]==0]['level_0']),'sum':sum(list(df[df[0]==0]['level_0']))},'group2:':{'list':list(df[df[0]==1]['level_0']),'sum':sum(list(df[df[0]==1]['level_0']))}}\n",
    "    print(pd.DataFrame.from_dict(ans))"
   ]
  },
  {
   "cell_type": "markdown",
   "metadata": {},
   "source": [
    "### Add constraint to balance the size of two sets"
   ]
  },
  {
   "cell_type": "code",
   "execution_count": 144,
   "metadata": {},
   "outputs": [],
   "source": [
    "from pyqubo import Constraint\n",
    "M=5\n",
    "H=H+M*Constraint(sum(s for s in s)**2,label='(sum s)^2= 0')"
   ]
  },
  {
   "cell_type": "code",
   "execution_count": 145,
   "metadata": {},
   "outputs": [],
   "source": [
    "model=H.compile()\n",
    "qubo,offset=model.to_qubo()\n",
    "bqm=model.to_dimod_bqm()"
   ]
  },
  {
   "cell_type": "code",
   "execution_count": 146,
   "metadata": {},
   "outputs": [],
   "source": [
    "sampler=EmbeddingComposite(DWaveSampler())\n",
    "response=sampler.sample(bqm)"
   ]
  },
  {
   "cell_type": "code",
   "execution_count": 147,
   "metadata": {},
   "outputs": [
    {
     "name": "stdout",
     "output_type": "stream",
     "text": [
      "{'s[0]': 0, 's[1]': 1, 's[2]': 1, 's[3]': 1, 's[4]': 1, 's[5]': 1, 's[6]': 0, 's[7]': 1, 's[8]': 0, 's[9]': 0}\n"
     ]
    }
   ],
   "source": [
    "for sample in response.samples():\n",
    "     print(sample)"
   ]
  },
  {
   "cell_type": "code",
   "execution_count": 148,
   "metadata": {},
   "outputs": [
    {
     "name": "stdout",
     "output_type": "stream",
     "text": [
      "             group1             group2:\n",
      "list  [1, 7, 9, 10]  [2, 3, 4, 5, 6, 8]\n",
      "sum              27                  28\n"
     ]
    }
   ],
   "source": [
    "for sample in response.samples():\n",
    "    df=pd.DataFrame.from_dict(sample,orient='index').reset_index().reset_index()\n",
    "    df['level_0']=df['level_0']+1\n",
    "    ans={'group1':{'list':list(df[df[0]==0]['level_0']),'sum':sum(list(df[df[0]==0]['level_0']))},'group2:':{'list':list(df[df[0]==1]['level_0']),'sum':sum(list(df[df[0]==1]['level_0']))}}\n",
    "    print(pd.DataFrame.from_dict(ans))"
   ]
  }
 ],
 "metadata": {
  "kernelspec": {
   "display_name": "Python 3",
   "language": "python",
   "name": "python3"
  },
  "language_info": {
   "codemirror_mode": {
    "name": "ipython",
    "version": 3
   },
   "file_extension": ".py",
   "mimetype": "text/x-python",
   "name": "python",
   "nbconvert_exporter": "python",
   "pygments_lexer": "ipython3",
   "version": "3.6.5"
  }
 },
 "nbformat": 4,
 "nbformat_minor": 2
}
