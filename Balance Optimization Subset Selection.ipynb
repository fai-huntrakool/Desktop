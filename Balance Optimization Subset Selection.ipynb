{
 "cells": [
  {
   "cell_type": "markdown",
   "metadata": {},
   "source": [
    "### Input initial parameter"
   ]
  },
  {
   "cell_type": "code",
   "execution_count": 163,
   "metadata": {},
   "outputs": [],
   "source": [
    "samples=40\n",
    "no_bins=4 #bins = (1,2,,,n_bins-1)\n",
    "n_cov=4"
   ]
  },
  {
   "cell_type": "markdown",
   "metadata": {},
   "source": [
    "### Create random matrix "
   ]
  },
  {
   "cell_type": "code",
   "execution_count": 164,
   "metadata": {},
   "outputs": [],
   "source": [
    "import numpy as np\n",
    "mat=np.random.random((samples,n_cov))*10"
   ]
  },
  {
   "cell_type": "code",
   "execution_count": 165,
   "metadata": {},
   "outputs": [],
   "source": [
    "def create_bins_array(initial_mat,no_bins,n_cov):\n",
    "    bmat=np.zeros((len(initial_mat),len(initial_mat[0])))\n",
    "    bins=np.linspace(0,10,no_bins)\n",
    "    for b in range(n_cov):\n",
    "        data=initial_mat[:,b]\n",
    "        digitized=np.digitize(data,bins)\n",
    "        bmat[:,b]=digitized\n",
    "    return bmat"
   ]
  },
  {
   "cell_type": "markdown",
   "metadata": {},
   "source": [
    "### Create bin matrix"
   ]
  },
  {
   "cell_type": "code",
   "execution_count": 166,
   "metadata": {},
   "outputs": [
    {
     "name": "stdout",
     "output_type": "stream",
     "text": [
      "[[3. 3. 2. 2.]\n",
      " [3. 1. 2. 1.]\n",
      " [2. 3. 1. 1.]\n",
      " [1. 3. 3. 3.]\n",
      " [1. 1. 3. 2.]\n",
      " [2. 2. 1. 2.]\n",
      " [1. 1. 1. 2.]\n",
      " [3. 2. 2. 3.]\n",
      " [3. 1. 2. 2.]\n",
      " [1. 2. 1. 3.]\n",
      " [3. 1. 3. 1.]\n",
      " [1. 3. 2. 3.]\n",
      " [3. 3. 1. 1.]\n",
      " [2. 2. 1. 1.]\n",
      " [2. 3. 3. 3.]\n",
      " [3. 3. 2. 1.]\n",
      " [1. 3. 3. 3.]\n",
      " [1. 3. 2. 3.]\n",
      " [1. 2. 2. 2.]\n",
      " [1. 3. 1. 1.]\n",
      " [2. 3. 3. 2.]\n",
      " [2. 2. 1. 2.]\n",
      " [2. 2. 1. 1.]\n",
      " [2. 3. 2. 3.]\n",
      " [1. 2. 2. 1.]\n",
      " [2. 2. 1. 2.]\n",
      " [3. 1. 2. 2.]\n",
      " [1. 2. 3. 2.]\n",
      " [1. 3. 1. 3.]\n",
      " [2. 3. 1. 1.]\n",
      " [2. 3. 2. 2.]\n",
      " [2. 2. 2. 3.]\n",
      " [3. 1. 1. 1.]\n",
      " [1. 1. 3. 1.]\n",
      " [2. 2. 3. 1.]\n",
      " [1. 2. 1. 1.]\n",
      " [3. 3. 2. 1.]\n",
      " [2. 1. 3. 2.]\n",
      " [2. 2. 2. 1.]\n",
      " [1. 3. 1. 1.]]\n"
     ]
    }
   ],
   "source": [
    "bins=create_bins_array(mat,no_bins,n_cov)\n",
    "print(bins)"
   ]
  },
  {
   "cell_type": "markdown",
   "metadata": {},
   "source": [
    "### Model Formulation"
   ]
  },
  {
   "cell_type": "code",
   "execution_count": 167,
   "metadata": {},
   "outputs": [],
   "source": [
    "from pyqubo import Array,Constraint\n",
    "s=Array.create('s',shape=samples,vartype='SPIN')\n",
    "\n",
    "def objective_function(s,bins,no_bins):\n",
    "    H=0\n",
    "    for col in range(len(mat[0])):\n",
    "        for b in range(1,no_bins+1):\n",
    "            M=0\n",
    "            for val,ss in zip(bins[:,col],s):\n",
    "                if val==b:\n",
    "                    M=M+ss\n",
    "            H=H+(M-0)**2\n",
    "    return H-0\n",
    "\n",
    "H=(objective_function(s,bins,no_bins))\n",
    "#M=4\n",
    "#con=sum(ss for ss in s)**2\n",
    "#H=H-M*Constraint(con,label='q-1')\n",
    "model=H.compile()\n",
    "qubo,offset=model.to_qubo()\n",
    "bqm=model.to_dimod_bqm()"
   ]
  },
  {
   "cell_type": "markdown",
   "metadata": {},
   "source": [
    "### QUBO matrix"
   ]
  },
  {
   "cell_type": "code",
   "execution_count": 168,
   "metadata": {},
   "outputs": [
    {
     "name": "stdout",
     "output_type": "stream",
     "text": [
      "       0      1      2      3      4      5      6      7      8      9   \\\n",
      "0  -204.0   16.0    8.0    8.0    8.0    8.0    8.0   16.0   24.0    0.0   \n",
      "1     0.0 -188.0    8.0    0.0    8.0    0.0    8.0   16.0   24.0    0.0   \n",
      "2     0.0    0.0 -240.0    8.0    0.0   16.0    8.0    0.0    0.0    8.0   \n",
      "3     0.0    0.0    0.0 -192.0   16.0    0.0    8.0    8.0    0.0   16.0   \n",
      "4     0.0    0.0    0.0    0.0 -172.0    8.0   24.0    0.0   16.0    8.0   \n",
      "5     0.0    0.0    0.0    0.0    0.0 -212.0   16.0    8.0    8.0   16.0   \n",
      "6     0.0    0.0    0.0    0.0    0.0    0.0 -192.0    0.0   16.0   16.0   \n",
      "7     0.0    0.0    0.0    0.0    0.0    0.0    0.0 -180.0   16.0   16.0   \n",
      "8     0.0    0.0    0.0    0.0    0.0    0.0    0.0    0.0 -172.0    0.0   \n",
      "9     0.0    0.0    0.0    0.0    0.0    0.0    0.0    0.0    0.0 -200.0   \n",
      "10    0.0    0.0    0.0    0.0    0.0    0.0    0.0    0.0    0.0    0.0   \n",
      "11    0.0    0.0    0.0    0.0    0.0    0.0    0.0    0.0    0.0    0.0   \n",
      "12    0.0    0.0    0.0    0.0    0.0    0.0    0.0    0.0    0.0    0.0   \n",
      "13    0.0    0.0    0.0    0.0    0.0    0.0    0.0    0.0    0.0    0.0   \n",
      "14    0.0    0.0    0.0    0.0    0.0    0.0    0.0    0.0    0.0    0.0   \n",
      "15    0.0    0.0    0.0    0.0    0.0    0.0    0.0    0.0    0.0    0.0   \n",
      "16    0.0    0.0    0.0    0.0    0.0    0.0    0.0    0.0    0.0    0.0   \n",
      "17    0.0    0.0    0.0    0.0    0.0    0.0    0.0    0.0    0.0    0.0   \n",
      "18    0.0    0.0    0.0    0.0    0.0    0.0    0.0    0.0    0.0    0.0   \n",
      "19    0.0    0.0    0.0    0.0    0.0    0.0    0.0    0.0    0.0    0.0   \n",
      "20    0.0    0.0    0.0    0.0    0.0    0.0    0.0    0.0    0.0    0.0   \n",
      "21    0.0    0.0    0.0    0.0    0.0    0.0    0.0    0.0    0.0    0.0   \n",
      "22    0.0    0.0    0.0    0.0    0.0    0.0    0.0    0.0    0.0    0.0   \n",
      "23    0.0    0.0    0.0    0.0    0.0    0.0    0.0    0.0    0.0    0.0   \n",
      "24    0.0    0.0    0.0    0.0    0.0    0.0    0.0    0.0    0.0    0.0   \n",
      "25    0.0    0.0    0.0    0.0    0.0    0.0    0.0    0.0    0.0    0.0   \n",
      "26    0.0    0.0    0.0    0.0    0.0    0.0    0.0    0.0    0.0    0.0   \n",
      "27    0.0    0.0    0.0    0.0    0.0    0.0    0.0    0.0    0.0    0.0   \n",
      "28    0.0    0.0    0.0    0.0    0.0    0.0    0.0    0.0    0.0    0.0   \n",
      "29    0.0    0.0    0.0    0.0    0.0    0.0    0.0    0.0    0.0    0.0   \n",
      "30    0.0    0.0    0.0    0.0    0.0    0.0    0.0    0.0    0.0    0.0   \n",
      "31    0.0    0.0    0.0    0.0    0.0    0.0    0.0    0.0    0.0    0.0   \n",
      "32    0.0    0.0    0.0    0.0    0.0    0.0    0.0    0.0    0.0    0.0   \n",
      "33    0.0    0.0    0.0    0.0    0.0    0.0    0.0    0.0    0.0    0.0   \n",
      "34    0.0    0.0    0.0    0.0    0.0    0.0    0.0    0.0    0.0    0.0   \n",
      "35    0.0    0.0    0.0    0.0    0.0    0.0    0.0    0.0    0.0    0.0   \n",
      "36    0.0    0.0    0.0    0.0    0.0    0.0    0.0    0.0    0.0    0.0   \n",
      "37    0.0    0.0    0.0    0.0    0.0    0.0    0.0    0.0    0.0    0.0   \n",
      "38    0.0    0.0    0.0    0.0    0.0    0.0    0.0    0.0    0.0    0.0   \n",
      "39    0.0    0.0    0.0    0.0    0.0    0.0    0.0    0.0    0.0    0.0   \n",
      "\n",
      "    ...       30     31     32     33     34     35     36     37     38  \\\n",
      "0   ...     24.0    8.0    8.0    0.0    0.0    0.0   24.0    8.0    8.0   \n",
      "1   ...      8.0    8.0   24.0   16.0    8.0    8.0   24.0    8.0   16.0   \n",
      "2   ...     16.0    8.0   16.0    8.0   16.0   16.0   16.0    8.0   16.0   \n",
      "3   ...      8.0    8.0    0.0   16.0    8.0    8.0    8.0    8.0    0.0   \n",
      "4   ...      8.0    0.0    8.0   24.0    8.0    8.0    0.0   24.0    0.0   \n",
      "5   ...     16.0   16.0    8.0    0.0   16.0   16.0    0.0   16.0   16.0   \n",
      "6   ...      8.0    0.0   16.0   16.0    0.0   16.0    0.0   16.0    0.0   \n",
      "7   ...      8.0   24.0    8.0    0.0    8.0    8.0   16.0    0.0   16.0   \n",
      "8   ...     16.0    8.0   16.0    8.0    0.0    0.0   16.0   16.0    8.0   \n",
      "9   ...      0.0   16.0    8.0    8.0    8.0   24.0    0.0    0.0    8.0   \n",
      "10  ...      0.0    0.0   24.0   24.0   16.0    8.0   16.0   16.0    8.0   \n",
      "11  ...     16.0   16.0    0.0    8.0    0.0    8.0   16.0    0.0    8.0   \n",
      "12  ...      8.0    0.0   24.0    8.0    8.0   16.0   24.0    0.0    8.0   \n",
      "13  ...      8.0   16.0   16.0    8.0   24.0   24.0    8.0    8.0   24.0   \n",
      "14  ...     16.0   16.0    0.0    8.0   16.0    0.0    8.0   16.0    8.0   \n",
      "15  ...     16.0    8.0   16.0    8.0    8.0    8.0   32.0    0.0   16.0   \n",
      "16  ...      8.0    8.0    0.0   16.0    8.0    8.0    8.0    8.0    0.0   \n",
      "17  ...     16.0   16.0    0.0    8.0    0.0    8.0   16.0    0.0    8.0   \n",
      "18  ...     16.0   16.0    0.0    8.0    8.0   16.0    8.0    8.0   16.0   \n",
      "19  ...      8.0    0.0   16.0   16.0    8.0   24.0   16.0    0.0    8.0   \n",
      "20  ...     24.0    8.0    0.0    8.0   16.0    0.0    8.0   24.0    8.0   \n",
      "21  ...     16.0   16.0    8.0    0.0   16.0   16.0    0.0   16.0   16.0   \n",
      "22  ...      8.0   16.0   16.0    8.0   24.0   24.0    8.0    8.0   24.0   \n",
      "23  ...     24.0   24.0    0.0    0.0    8.0    0.0   16.0    8.0   16.0   \n",
      "24  ...      8.0   16.0    8.0   16.0   16.0   24.0   16.0    0.0   24.0   \n",
      "25  ...     16.0   16.0    8.0    0.0   16.0   16.0    0.0   16.0   16.0   \n",
      "26  ...     16.0    8.0   16.0    8.0    0.0    0.0   16.0   16.0    8.0   \n",
      "27  ...      8.0    8.0    0.0   16.0   16.0   16.0    0.0   16.0    8.0   \n",
      "28  ...      8.0    8.0    8.0    8.0    0.0   16.0    8.0    0.0    0.0   \n",
      "29  ...     16.0    8.0   16.0    8.0   16.0   16.0   16.0    8.0   16.0   \n",
      "30  ...   -224.0   16.0    0.0    0.0    8.0    0.0   16.0   16.0   16.0   \n",
      "31  ...      0.0 -200.0    0.0    0.0   16.0    8.0    8.0    8.0   24.0   \n",
      "32  ...      0.0    0.0 -188.0   16.0    8.0   16.0   16.0    8.0    8.0   \n",
      "33  ...      0.0    0.0    0.0 -188.0   16.0   16.0    8.0   16.0    8.0   \n",
      "34  ...      0.0    0.0    0.0    0.0 -208.0   16.0    8.0   16.0   24.0   \n",
      "35  ...      0.0    0.0    0.0    0.0    0.0 -228.0    8.0    0.0   16.0   \n",
      "36  ...      0.0    0.0    0.0    0.0    0.0    0.0 -220.0    0.0   16.0   \n",
      "37  ...      0.0    0.0    0.0    0.0    0.0    0.0    0.0 -172.0    8.0   \n",
      "38  ...      0.0    0.0    0.0    0.0    0.0    0.0    0.0    0.0 -228.0   \n",
      "39  ...      0.0    0.0    0.0    0.0    0.0    0.0    0.0    0.0    0.0   \n",
      "\n",
      "       39  \n",
      "0     8.0  \n",
      "1     8.0  \n",
      "2    24.0  \n",
      "3    16.0  \n",
      "4     8.0  \n",
      "5     8.0  \n",
      "6    16.0  \n",
      "7     0.0  \n",
      "8     0.0  \n",
      "9    16.0  \n",
      "10    8.0  \n",
      "11   16.0  \n",
      "12   24.0  \n",
      "13   16.0  \n",
      "14    8.0  \n",
      "15   16.0  \n",
      "16   16.0  \n",
      "17   16.0  \n",
      "18    8.0  \n",
      "19   32.0  \n",
      "20    8.0  \n",
      "21    8.0  \n",
      "22   16.0  \n",
      "23    8.0  \n",
      "24   16.0  \n",
      "25    8.0  \n",
      "26    0.0  \n",
      "27    8.0  \n",
      "28   24.0  \n",
      "29   24.0  \n",
      "30    8.0  \n",
      "31    0.0  \n",
      "32   16.0  \n",
      "33   16.0  \n",
      "34    8.0  \n",
      "35   24.0  \n",
      "36   16.0  \n",
      "37    0.0  \n",
      "38    8.0  \n",
      "39 -240.0  \n",
      "\n",
      "[40 rows x 40 columns]\n"
     ]
    }
   ],
   "source": [
    "import re\n",
    "qmat=np.zeros((samples,samples))\n",
    "for key,val in qubo.items():\n",
    "    x=int(int(re.search(r'\\d+', key[0]).group()))\n",
    "    y=int(int(re.search(r'\\d+', key[1]).group()))\n",
    "    qmat[min(x,y)][max(x,y)]=val\n",
    "\n",
    "import pandas as pd\n",
    "q=pd.DataFrame(qmat)\n",
    "print(q)"
   ]
  },
  {
   "cell_type": "markdown",
   "metadata": {},
   "source": [
    "### Optimization "
   ]
  },
  {
   "cell_type": "code",
   "execution_count": 169,
   "metadata": {},
   "outputs": [],
   "source": [
    "from dwave.system.samplers import DWaveSampler\n",
    "from dwave.system.composites import EmbeddingComposite\n",
    "import neal\n",
    "sampler=EmbeddingComposite(DWaveSampler())\n",
    "sampler=neal.SimulatedAnnealingSampler()\n",
    "response=sampler.sample(bqm,num_reads=100)"
   ]
  },
  {
   "cell_type": "markdown",
   "metadata": {},
   "source": [
    "### Select one of the result that gives minimum energy as the answer to this problem"
   ]
  },
  {
   "cell_type": "code",
   "execution_count": 170,
   "metadata": {},
   "outputs": [],
   "source": [
    "from collections import defaultdict    \n",
    "result=defaultdict(list)\n",
    "for r in response.data(['sample', 'energy']):\n",
    "    result[r.energy].append(r.sample)\n",
    "\n",
    "res=pd.DataFrame()\n",
    "min_energy=min(result.keys())\n",
    "for i in list(result[min_energy]):\n",
    "    temp=pd.DataFrame.from_dict(i,'index').transpose()\n",
    "    res=res.append(temp)\n",
    "res=res.drop_duplicates()"
   ]
  },
  {
   "cell_type": "code",
   "execution_count": 171,
   "metadata": {},
   "outputs": [
    {
     "name": "stdout",
     "output_type": "stream",
     "text": [
      "    s[0]  s[10]  s[11]  s[12]  s[13]  s[14]  s[15]  s[16]  s[17]  s[18]  ...   \\\n",
      "0      1      0      0      0      0      0      0      1      1      0  ...    \n",
      "0      1      0      0      1      1      1      0      0      1      0  ...    \n",
      "0      1      1      1      0      1      0      0      0      0      0  ...    \n",
      "0      0      1      1      1      1      1      1      0      0      1  ...    \n",
      "0      1      1      0      0      0      1      0      1      1      1  ...    \n",
      "0      0      0      0      1      0      0      0      1      1      0  ...    \n",
      "0      0      1      0      1      0      0      1      0      0      0  ...    \n",
      "0      0      0      0      0      0      0      0      0      1      0  ...    \n",
      "0      1      0      0      1      1      0      0      1      0      0  ...    \n",
      "0      0      0      1      1      0      1      0      0      1      0  ...    \n",
      "0      0      0      1      0      1      0      1      1      1      0  ...    \n",
      "0      0      1      0      1      1      0      0      1      1      0  ...    \n",
      "0      1      1      1      0      1      0      1      0      1      0  ...    \n",
      "0      0      1      0      0      0      1      1      1      1      1  ...    \n",
      "0      1      1      0      1      1      0      0      0      1      0  ...    \n",
      "0      0      0      0      1      1      1      1      1      1      1  ...    \n",
      "0      1      0      1      1      0      0      0      0      1      0  ...    \n",
      "0      0      0      0      1      1      1      0      1      0      1  ...    \n",
      "0      0      0      1      0      0      1      1      0      0      0  ...    \n",
      "0      0      1      0      1      1      1      1      0      1      1  ...    \n",
      "0      1      0      1      1      1      1      1      0      1      1  ...    \n",
      "0      0      0      0      1      1      1      0      1      1      1  ...    \n",
      "0      1      1      0      0      1      0      1      1      1      1  ...    \n",
      "0      0      0      1      1      0      1      1      1      0      0  ...    \n",
      "0      0      1      0      0      0      1      1      1      0      1  ...    \n",
      "0      1      1      0      1      0      0      0      1      0      0  ...    \n",
      "0      0      1      1      1      1      0      0      1      0      1  ...    \n",
      "0      1      1      0      0      0      0      0      0      1      0  ...    \n",
      "0      1      1      1      0      1      0      1      1      0      1  ...    \n",
      "0      1      0      0      1      0      1      1      0      0      0  ...    \n",
      "..   ...    ...    ...    ...    ...    ...    ...    ...    ...    ...  ...    \n",
      "0      1      0      1      1      1      1      0      1      0      1  ...    \n",
      "0      0      1      0      1      1      0      0      0      1      1  ...    \n",
      "0      0      0      0      1      0      0      1      1      1      1  ...    \n",
      "0      0      0      0      0      1      0      1      0      1      0  ...    \n",
      "0      0      0      0      1      0      1      0      0      0      1  ...    \n",
      "0      0      1      0      1      1      1      0      0      0      1  ...    \n",
      "0      0      1      1      1      0      1      0      0      0      0  ...    \n",
      "0      0      1      1      0      0      1      0      1      0      1  ...    \n",
      "0      0      1      1      1      0      0      1      1      1      0  ...    \n",
      "0      0      1      0      0      0      1      0      0      1      1  ...    \n",
      "0      0      1      0      1      0      1      0      0      0      1  ...    \n",
      "0      1      0      0      1      0      1      1      0      1      0  ...    \n",
      "0      1      1      1      0      1      0      1      0      1      0  ...    \n",
      "0      1      0      0      0      1      0      1      1      0      0  ...    \n",
      "0      0      1      1      1      1      0      0      0      0      1  ...    \n",
      "0      0      0      0      0      1      0      1      0      1      0  ...    \n",
      "0      1      0      1      0      1      0      1      0      0      0  ...    \n",
      "0      1      0      1      0      1      1      1      1      1      0  ...    \n",
      "0      1      0      1      0      0      1      0      1      0      1  ...    \n",
      "0      1      0      0      1      1      0      0      1      1      0  ...    \n",
      "0      0      0      0      1      0      1      1      0      0      0  ...    \n",
      "0      0      1      0      1      0      1      0      0      1      0  ...    \n",
      "0      1      1      0      0      0      0      1      1      1      0  ...    \n",
      "0      1      0      0      0      1      1      1      1      1      1  ...    \n",
      "0      1      0      0      0      1      0      0      1      1      0  ...    \n",
      "0      1      1      0      0      1      1      0      1      0      1  ...    \n",
      "0      1      0      0      1      0      1      1      1      0      1  ...    \n",
      "0      0      1      0      0      0      1      1      1      0      0  ...    \n",
      "0      1      0      1      0      0      0      1      0      0      1  ...    \n",
      "0      1      1      1      0      1      0      0      0      1      0  ...    \n",
      "\n",
      "    s[37]  s[38]  s[39]  s[3]  s[4]  s[5]  s[6]  s[7]  s[8]  s[9]  \n",
      "0       1      1      0     1     0     0     1     1     0     0  \n",
      "0       1      1      1     0     0     0     1     1     1     1  \n",
      "0       1      0      1     0     1     0     0     1     1     1  \n",
      "0       1      0      1     0     0     0     0     0     0     1  \n",
      "0       0      1      0     1     0     0     1     1     0     0  \n",
      "0       1      1      0     0     0     0     0     0     1     1  \n",
      "0       1      0      0     1     0     0     1     1     0     0  \n",
      "0       1      0      1     1     0     1     0     1     1     0  \n",
      "0       1      0      1     0     1     0     0     1     1     1  \n",
      "0       0      0      0     0     1     1     0     1     0     0  \n",
      "0       1      0      0     0     0     0     1     1     0     0  \n",
      "0       0      1      0     0     1     1     1     0     0     1  \n",
      "0       0      1      0     1     1     1     1     0     0     0  \n",
      "0       0      0      0     1     1     1     1     1     1     0  \n",
      "0       0      1      1     1     1     0     0     0     0     1  \n",
      "0       1      1      0     0     1     1     0     1     0     0  \n",
      "0       0      1      0     1     1     0     1     0     1     0  \n",
      "0       1      0      1     1     0     0     1     1     1     0  \n",
      "0       1      0      1     1     0     1     0     1     1     0  \n",
      "0       0      0      1     1     0     0     1     0     1     0  \n",
      "0       0      0      1     0     1     1     0     0     0     1  \n",
      "0       1      1      1     1     0     0     1     0     1     0  \n",
      "0       1      0      1     0     1     0     0     1     0     0  \n",
      "0       0      1      0     0     1     1     1     0     1     1  \n",
      "0       1      1      1     0     0     0     1     1     0     1  \n",
      "0       0      1      0     1     1     1     1     0     1     0  \n",
      "0       1      1      0     1     0     0     1     1     0     0  \n",
      "0       0      1      0     1     0     0     0     1     1     0  \n",
      "0       0      0      1     0     1     0     0     0     0     1  \n",
      "0       0      1      0     1     1     1     1     0     1     0  \n",
      "..    ...    ...    ...   ...   ...   ...   ...   ...   ...   ...  \n",
      "0       0      0      0     1     0     1     1     0     0     0  \n",
      "0       0      0      0     0     1     0     0     1     1     0  \n",
      "0       1      0      1     1     0     1     0     0     0     1  \n",
      "0       1      0      0     1     0     1     0     0     1     1  \n",
      "0       0      1      1     1     1     1     0     1     0     0  \n",
      "0       0      0      1     1     1     0     0     1     1     1  \n",
      "0       0      1      1     0     1     1     0     0     1     1  \n",
      "0       0      0      1     0     0     1     0     0     0     0  \n",
      "0       1      1      1     0     0     1     0     0     0     1  \n",
      "0       0      0      0     1     1     0     0     1     0     0  \n",
      "0       0      0      1     1     1     1     1     1     0     0  \n",
      "0       1      1      1     0     1     0     0     0     0     1  \n",
      "0       0      0      0     1     0     0     0     0     1     1  \n",
      "0       1      1      1     1     1     1     0     1     1     0  \n",
      "0       1      0      1     1     0     0     1     1     0     0  \n",
      "0       0      0      0     1     1     0     0     1     1     0  \n",
      "0       1      0      0     1     1     1     1     1     1     0  \n",
      "0       1      0      0     1     0     0     1     0     0     0  \n",
      "0       0      1      0     0     1     0     0     1     0     0  \n",
      "0       0      0      1     0     1     0     1     1     0     0  \n",
      "0       1      0      1     0     0     1     1     0     1     1  \n",
      "0       1      1      0     0     0     0     1     1     0     1  \n",
      "0       0      1      0     0     1     0     0     0     1     1  \n",
      "0       0      1      0     0     1     1     0     0     0     0  \n",
      "0       0      0      1     0     0     0     1     1     0     0  \n",
      "0       1      0      1     0     0     0     0     1     1     0  \n",
      "0       1      1      0     0     1     0     1     0     0     1  \n",
      "0       1      0      1     0     0     1     1     1     1     0  \n",
      "0       1      1      0     1     0     0     0     0     0     1  \n",
      "0       1      0      1     1     1     1     0     1     0     0  \n",
      "\n",
      "[99 rows x 40 columns]\n"
     ]
    }
   ],
   "source": [
    "res=res.drop_duplicates()\n",
    "print(res)"
   ]
  },
  {
   "cell_type": "markdown",
   "metadata": {},
   "source": [
    "### Visualize no. differences by covariate and bin"
   ]
  },
  {
   "cell_type": "code",
   "execution_count": 172,
   "metadata": {},
   "outputs": [
    {
     "data": {
      "image/png": "[encoded data removed]",
      "text/plain": [
       "<Figure size 432x288 with 1 Axes>"
      ]
     },
     "metadata": {},
     "output_type": "display_data"
    },
    {
     "data": {
      "image/png": "[encoded data removed]",
      "text/plain": [
       "<Figure size 432x288 with 1 Axes>"
      ]
     },
     "metadata": {},
     "output_type": "display_data"
    },
    {
     "data": {
      "image/png": "[encoded data removed]",
      "text/plain": [
       "<Figure size 432x288 with 1 Axes>"
      ]
     },
     "metadata": {},
     "output_type": "display_data"
    },
    {
     "data": {
      "image/png": "[encoded data removed]",
      "text/plain": [
       "<Figure size 432x288 with 1 Axes>"
      ]
     },
     "metadata": {},
     "output_type": "display_data"
    }
   ],
   "source": [
    "import matplotlib.pyplot as plt\n",
    "group=pd.DataFrame(res.iloc[0,:]).reset_index().drop('index',axis=1).rename({0:'group'},axis=1)\n",
    "\n",
    "colors=['red','yellow']\n",
    "for i in range(n_cov):\n",
    "    cov=pd.DataFrame(bins[:,i]).rename({0:'bins'},axis=1)\n",
    "    df=pd.concat([cov, group], axis=1)\n",
    "    plt.title('Overall data binning')\n",
    "    plt.hist(list(df['bins']),density=False,histtype='bar',color='black')\n",
    "    plt.title('Covariate '+str(i+1))\n",
    "    plt.hist([list(df[df['group']==0]['bins']),list(df[df['group']==1]['bins'])],density=False,histtype='bar',color=colors,bins=no_bins)\n",
    "    plt.show()"
   ]
  },
  {
   "cell_type": "markdown",
   "metadata": {},
   "source": [
    "### Calculate means difference between groups"
   ]
  },
  {
   "cell_type": "code",
   "execution_count": 173,
   "metadata": {},
   "outputs": [],
   "source": [
    "##########Variance, mean (Compare with randomization technique)##################################\n",
    "dcov=dict()\n",
    "group=pd.DataFrame(res.iloc[0,:]).reset_index().drop('index',axis=1).rename({0:'group'},axis=1)\n",
    "for i in range(n_cov):\n",
    "    cov=pd.DataFrame(mat[:,i]).rename({0:'bins'},axis=1)\n",
    "    df=pd.concat([cov, group], axis=1)\n",
    "    dcov[i]={'mean':df['bins'].mean(),\n",
    "            'variance':df['bins'].var(),\n",
    "            'mean_control':df[df['group']==0]['bins'].mean(),\n",
    "            'variance_control':df[df['group']==0]['bins'].var(),\n",
    "            'mean_treatment':df[df['group']==1]['bins'].mean(),\n",
    "            'variance_treatment':df[df['group']==1]['bins'].var()}\n",
    "#print(pd.DataFrame.from_dict(dcov))\n",
    "#randomization\n",
    "group=pd.DataFrame(np.random.randint(0,2,(samples,1))).rename({0:'group'},axis=1)\n",
    "dcovrand=dict()\n",
    "for i in range(n_cov):\n",
    "    cov=pd.DataFrame(mat[:,i]).rename({0:'bins'},axis=1)\n",
    "    df=pd.concat([cov, group], axis=1)\n",
    "    dcovrand[i]={'mean':df['bins'].mean(),\n",
    "            'variance':df['bins'].var(),\n",
    "            'mean_control':df[df['group']==0]['bins'].mean(),\n",
    "            'variance_control':df[df['group']==0]['bins'].var(),\n",
    "            'mean_treatment':df[df['group']==1]['bins'].mean(),\n",
    "            'variance_treatment':df[df['group']==1]['bins'].var()}\n",
    "#print(pd.DataFrame.from_dict(dcovrand))\n"
   ]
  },
  {
   "cell_type": "code",
   "execution_count": 176,
   "metadata": {},
   "outputs": [
    {
     "name": "stdout",
     "output_type": "stream",
     "text": [
      "different of means-before optimization    1.064594\n",
      "different of means-optimization           0.673086\n",
      "dtype: float64\n"
     ]
    }
   ],
   "source": [
    "df=pd.DataFrame.from_dict(dcov).transpose()\n",
    "df['different of means-optimization']=(df['mean_treatment']-df['mean_control']).abs()\n",
    "df_rand=pd.DataFrame.from_dict(dcovrand).transpose()\n",
    "df_rand['different of means-before optimization']=(df_rand['mean_treatment']-df_rand['mean_control']).abs()\n",
    "result = pd.concat([df_rand['different of means-before optimization'],df['different of means-optimization']], axis=1, sort=False)\n",
    "\n",
    "print(result.mean())"
   ]
  }
 ],
 "metadata": {
  "kernelspec": {
   "display_name": "Python 3",
   "language": "python",
   "name": "python3"
  },
  "language_info": {
   "codemirror_mode": {
    "name": "ipython",
    "version": 3
   },
   "file_extension": ".py",
   "mimetype": "text/x-python",
   "name": "python",
   "nbconvert_exporter": "python",
   "pygments_lexer": "ipython3",
   "version": "3.6.5"
  }
 },
 "nbformat": 4,
 "nbformat_minor": 2
}
